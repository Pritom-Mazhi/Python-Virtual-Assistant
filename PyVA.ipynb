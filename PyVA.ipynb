{
 "cells": [
  {
   "cell_type": "code",
   "execution_count": null,
   "metadata": {},
   "outputs": [],
   "source": [
    "import wx\n",
    "from espeak import espeak\n",
    "import wikipedia\n",
    "import wolframalpha\n",
    "\n",
    "app_id = \"WPEH49-6X4KTGALV6\"\n",
    "client = wolframalpha.Client(app_id)\n",
    "\n",
    "class MyFrame(wx.Frame):\n",
    "    def __init__(self):\n",
    "        wx.Frame.__init__(self, None,\n",
    "        pos=wx.DefaultPosition, size=wx.Size(450, 100),\n",
    "        style=wx.MINIMIZE_BOX | wx.SYSTEM_MENU | wx.CAPTION |\n",
    "        wx.CLOSE_BOX | wx.CLIP_CHILDREN,\n",
    "        title=\"PyVA\")\n",
    "        panel = wx.Panel(self)\n",
    "        my_sizer = wx.BoxSizer(wx.VERTICAL)\n",
    "        lbl = wx.StaticText(panel,\n",
    "        label=\"Hello I am PyVA, the Python Virtual Assistant. How may I help you?\")\n",
    "        my_sizer.Add(lbl, 0, wx.ALL, 5)\n",
    "        self.txt = wx.TextCtrl(panel, style=wx.TE_PROCESS_ENTER,size=(400,30))\n",
    "        self.txt.SetFocus()\n",
    "        self.txt.Bind(wx.EVT_TEXT_ENTER, self.OnEnter)\n",
    "        my_sizer.Add(self.txt, 0, wx.ALL, 5)\n",
    "        panel.SetSizer(my_sizer)\n",
    "        self.Show()\n",
    "\n",
    "    def OnEnter(self, event):\n",
    "\n",
    "        input = self.txt.GetValue()\n",
    "        input = input.lower()\n",
    "        try:\n",
    "            res = client.query(input)\n",
    "            answer = next(res.results).text\n",
    "            print (answer)\n",
    "            espeak.synth(\"The answer is \"+str(answer))\n",
    "        except:\n",
    "            try:\n",
    "                input = input.split(' ')\n",
    "                input = ' '.join(input[2:])\n",
    "                print (wikipedia.summary(input))\n",
    "            except:\n",
    "                print (\"I don't know this\")\n",
    "\n",
    "\n",
    "if __name__ == \"__main__\":\n",
    "    app = wx.App(True)\n",
    "    frame = MyFrame()\n",
    "    app.MainLoop()"
   ]
  },
  {
   "cell_type": "code",
   "execution_count": null,
   "metadata": {},
   "outputs": [],
   "source": []
  }
 ],
 "metadata": {
  "kernelspec": {
   "display_name": "Python 3",
   "language": "python",
   "name": "python3"
  },
  "language_info": {
   "codemirror_mode": {
    "name": "ipython",
    "version": 3
   },
   "file_extension": ".py",
   "mimetype": "text/x-python",
   "name": "python",
   "nbconvert_exporter": "python",
   "pygments_lexer": "ipython3",
   "version": "3.6.8"
  }
 },
 "nbformat": 4,
 "nbformat_minor": 2
}
